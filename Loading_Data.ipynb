{
  "nbformat": 4,
  "nbformat_minor": 0,
  "metadata": {
    "colab": {
      "name": "Loading Data",
      "version": "0.3.2",
      "provenance": [],
      "collapsed_sections": [],
      "include_colab_link": true
    },
    "kernelspec": {
      "name": "python3",
      "display_name": "Python 3"
    }
  },
  "cells": [
    {
      "cell_type": "markdown",
      "metadata": {
        "id": "view-in-github",
        "colab_type": "text"
      },
      "source": [
        "<a href=\"https://colab.research.google.com/github/gafaronline/loading_data/blob/master/Loading_Data.ipynb\" target=\"_parent\"><img src=\"https://colab.research.google.com/assets/colab-badge.svg\" alt=\"Open In Colab\"/></a>"
      ]
    },
    {
      "metadata": {
        "id": "SJ9VmM3ELma3",
        "colab_type": "text"
      },
      "cell_type": "markdown",
      "source": [
        "# **Loading Data from Drive to colab and vice versa**"
      ]
    },
    {
      "metadata": {
        "id": "C0V_gsDrD0yc",
        "colab_type": "text"
      },
      "cell_type": "markdown",
      "source": [
        "First upload the dataset as a zip file to google drive. Assuming the name of the file is **\"flower_data.zip**\". "
      ]
    },
    {
      "metadata": {
        "id": "0NmFyXzxEJuW",
        "colab_type": "text"
      },
      "cell_type": "markdown",
      "source": [
        "Install PyDrive Package and sync to your google drive by running the code below"
      ]
    },
    {
      "metadata": {
        "id": "-56PnYObwMPe",
        "colab_type": "text"
      },
      "cell_type": "markdown",
      "source": [
        "Click on the url that appears when you run the cell below. The url will take you to a login page for your google account, login to your account and grant access. An authentication key will appear. Copy the key and paste it into the provided space in the cell below and press Enter\n"
      ]
    },
    {
      "metadata": {
        "id": "Yb4emOlfDvoU",
        "colab_type": "code",
        "colab": {}
      },
      "cell_type": "code",
      "source": [
        "!pip install -U -q PyDrive\n",
        " \n",
        "from pydrive.auth import GoogleAuth\n",
        "from pydrive.drive import GoogleDrive\n",
        "from google.colab import auth\n",
        "from oauth2client.client import GoogleCredentials\n",
        " \n",
        "# 1. Authenticate and create the PyDrive client.\n",
        "auth.authenticate_user()\n",
        "gauth = GoogleAuth()\n",
        "gauth.credentials = GoogleCredentials.get_application_default()\n",
        "drive = GoogleDrive(gauth)"
      ],
      "execution_count": 0,
      "outputs": []
    },
    {
      "metadata": {
        "id": "s8MTy5ihEr22",
        "colab_type": "text"
      },
      "cell_type": "markdown",
      "source": [
        "Locate the location of your zip file in google drive. Assuming the url for the location is:\n",
        " \n",
        " https: //drive.google.com/drive/folders/**12345678bsG5HANhYvI2UBSvW12345678**\n",
        " \n",
        " Copy the folder-id highlighted in bold and paste in the code as demonstrated below. Do not change anything else"
      ]
    },
    {
      "metadata": {
        "id": "ubtS46S8EX4_",
        "colab_type": "text"
      },
      "cell_type": "markdown",
      "source": [
        ""
      ]
    },
    {
      "metadata": {
        "id": "31zj16c8Ehj-",
        "colab_type": "code",
        "colab": {}
      },
      "cell_type": "code",
      "source": [
        "file_list = drive.ListFile({'q': \"'12345678bsG5HANhYvI2UBSvW12345678' in parents and trashed=false\"}).GetList()\n",
        "for file1 in file_list:\n",
        "  print('title: %s, id: %s' % (file1['title'], file1['id']))"
      ],
      "execution_count": 0,
      "outputs": []
    },
    {
      "metadata": {
        "id": "hTrEBOj3F643",
        "colab_type": "text"
      },
      "cell_type": "markdown",
      "source": [
        "Your output after running the code above should look like this:\n",
        "\n",
        "**title: flower_data.zip, id: 12345678-dSbfOCKEridPyeYO12345678**\n",
        "\n",
        "**title: cat_to_name.json, id: 87654321Gu9U2Xv52ATyp1_qD87654321** "
      ]
    },
    {
      "metadata": {
        "id": "v-HKxqN_GoOX",
        "colab_type": "text"
      },
      "cell_type": "markdown",
      "source": [
        "The zip file is loaded into colab and extracted in the sample code below\n"
      ]
    },
    {
      "metadata": {
        "id": "-2iusY7vG8pP",
        "colab_type": "code",
        "colab": {}
      },
      "cell_type": "code",
      "source": [
        "content_name = 'flower_data.zip'\n",
        "style_name = 'cat_to_name.json'\n",
        "content_file = drive.CreateFile({'id': '12345678-dSbfOCKEridPyeYO12345678'})\n",
        "content_file.GetContentFile(content_name)\n",
        "style_file = drive.CreateFile({'id':'87654321Gu9U2Xv52ATyp1_qD87654321' })\n",
        "style_file.GetContentFile(style_name)\n",
        "\n",
        "!unzip -qq flower_data.zip"
      ],
      "execution_count": 0,
      "outputs": []
    },
    {
      "metadata": {
        "id": "KUbMs90_Ram-",
        "colab_type": "text"
      },
      "cell_type": "markdown",
      "source": [
        "**Uploading your checkpoint to drive**"
      ]
    },
    {
      "metadata": {
        "id": "0loaDhFIHw8A",
        "colab_type": "text"
      },
      "cell_type": "markdown",
      "source": [
        "**After extracting, go to Files and refresh to see the extracted images**"
      ]
    },
    {
      "metadata": {
        "id": "ZOh3AgmBIs0H",
        "colab_type": "text"
      },
      "cell_type": "markdown",
      "source": [
        "**The following codes below is for saving your model and uploading it to google drive, and for loading your saved model.**"
      ]
    },
    {
      "metadata": {
        "id": "aRyEpsXNItEe",
        "colab_type": "text"
      },
      "cell_type": "markdown",
      "source": [
        "Assuming that resnet152 pretrained model was used and after training, to save the model to google drive, the following code sample is provided below\n"
      ]
    },
    {
      "metadata": {
        "id": "CEpoLB1yRLvR",
        "colab_type": "code",
        "colab": {}
      },
      "cell_type": "code",
      "source": [
        "!pip install -U -q PyDrive\n",
        " \n",
        "from pydrive.auth import GoogleAuth\n",
        "from pydrive.drive import GoogleDrive\n",
        "from google.colab import auth\n",
        "from oauth2client.client import GoogleCredentials\n",
        " \n",
        "# 1. Authenticate and create the PyDrive client.\n",
        "auth.authenticate_user()\n",
        "gauth = GoogleAuth()\n",
        "gauth.credentials = GoogleCredentials.get_application_default()\n",
        "drive = GoogleDrive(gauth)"
      ],
      "execution_count": 0,
      "outputs": []
    },
    {
      "metadata": {
        "id": "EU4CpGRdJVPq",
        "colab_type": "code",
        "colab": {}
      },
      "cell_type": "code",
      "source": [
        "#This code is for saving your model to your working directory (Files) in colad\n",
        "model_name = \"resnet152.pth\"\n",
        "\n",
        "model.class_to_idx = train_data.class_to_idx\n",
        "model.cpu()\n",
        "checkpoint = {\n",
        "              'class_to_idx': model.class_to_idx,\n",
        "              'state_dict': modeal.state_dict()}\n",
        "torch.save(checkpoint, model_name)\n",
        "\n",
        "\n",
        "file = drive.CreateFile({'title':model_name, 'mimeType':'application/pth'})\n",
        "file.SetContentFile(model_name)\n",
        "file.Upload()\n",
        "print('title: %s, mimeType: %s' % (file['title'], file['mimeType']))\n",
        "\n"
      ],
      "execution_count": 0,
      "outputs": []
    },
    {
      "metadata": {
        "id": "UT-o7mJxKemm",
        "colab_type": "text"
      },
      "cell_type": "markdown",
      "source": [
        "To load your saved model, first check the model is in the working directory (Files), if is not there, upload your model from google drive to colab following the method illustrated in the beginning for uploading files to colab. Here is a code sample on loading your saved model\n",
        "**Note: make use that the model_name is the same with the name you used to save the mode**l"
      ]
    },
    {
      "metadata": {
        "id": "WwxL59hrLKJE",
        "colab_type": "code",
        "colab": {}
      },
      "cell_type": "code",
      "source": [
        "model_name = \"resnet152.pth\"\n",
        "checkpoint = torch.load(model_name)\n",
        "model.load_state_dict(checkpoint['state_dict'])\n",
        "model.class_to_idx = checkpoint['class_to_idx']"
      ],
      "execution_count": 0,
      "outputs": []
    }
  ]
}